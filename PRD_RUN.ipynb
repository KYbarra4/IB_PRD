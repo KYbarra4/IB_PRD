{
 "cells": [
  {
   "cell_type": "code",
   "execution_count": null,
   "metadata": {},
   "outputs": [],
   "source": [
    "import requests\n",
    "import json\n",
    "import pandas as pd\n",
    "import numpy as np\n",
    "import datetime as dt\n",
    "from bs4 import BeautifulSoup as soup\n",
    "import os"
   ]
  },
  {
   "cell_type": "code",
   "execution_count": null,
   "metadata": {},
   "outputs": [],
   "source": [
    "csv='../Resources/APPT_PRD_Run.csv'\n",
    "csv_history = '../Exports/PRD_full.csv'\n",
    "PRD_full = pd.read_csv(csv_history)\n",
    "prd_run_df= pd.read_csv(csv)\n",
    "prd_run_df.head()"
   ]
  },
  {
   "cell_type": "code",
   "execution_count": null,
   "metadata": {},
   "outputs": [],
   "source": [
    "# prd_run_df.columns"
   ]
  },
  {
   "cell_type": "code",
   "execution_count": null,
   "metadata": {},
   "outputs": [],
   "source": [
    "# prd_run_df.dropna(subset=['APPT ID'], inplace=True)\n",
    "# prd_run_df['APPT ID'] = prd_run_df['APPT ID'].astype(int)"
   ]
  },
  {
   "cell_type": "code",
   "execution_count": null,
   "metadata": {},
   "outputs": [],
   "source": [
    "prd_run_df.dropna(subset=['APPT ID'], inplace=True)\n",
    "prd_run_df.tail()"
   ]
  },
  {
   "cell_type": "code",
   "execution_count": null,
   "metadata": {},
   "outputs": [],
   "source": [
    "po_count = len(prd_run_df['APPT ID'].unique())\n",
    "po_count"
   ]
  },
  {
   "cell_type": "code",
   "execution_count": null,
   "metadata": {},
   "outputs": [],
   "source": [
    "# prd_run_df = prd_run_df[(prd_run_df['APPT PRD FLAG'] == 'Appt without PRD Run')]"
   ]
  },
  {
   "cell_type": "code",
   "execution_count": null,
   "metadata": {},
   "outputs": [],
   "source": [
    "PRD_count = len(prd_run_df['APPT ID'].unique())\n",
    "PRD_count"
   ]
  },
  {
   "cell_type": "code",
   "execution_count": null,
   "metadata": {},
   "outputs": [],
   "source": [
    "prd_run_df[[\"Date_Worked\",\"Time_Worked\"]] = prd_run_df[\"APPT OPEN TS\"].str.split(expand=True)"
   ]
  },
  {
   "cell_type": "code",
   "execution_count": null,
   "metadata": {},
   "outputs": [],
   "source": [
    "prd_run_df['APPT OPEN TS'] = pd.to_datetime(prd_run_df['APPT OPEN TS'])"
   ]
  },
  {
   "cell_type": "code",
   "execution_count": null,
   "metadata": {},
   "outputs": [],
   "source": [
    "# prd_run_df.dtypes"
   ]
  },
  {
   "cell_type": "code",
   "execution_count": null,
   "metadata": {},
   "outputs": [],
   "source": [
    "prd_run_df['Weekday']= prd_run_df['APPT OPEN TS'].dt.weekday\n",
    "prd_run_df.head()"
   ]
  },
  {
   "cell_type": "code",
   "execution_count": null,
   "metadata": {},
   "outputs": [],
   "source": [
    "shift_a1_start = '06:00:00'\n",
    "shift_a1_end = '18:00:00'\n",
    "\n",
    "shift_a2_start = '18:00:00'\n",
    "shift_a2_new = '00:00:00'\n",
    "shift_a2_mid = '23:59:59'\n",
    "shift_a2_end = '06:00:00'\n",
    "\n",
    "shift_b1_start = '06:00:00'\n",
    "shift_b1_end = '16:00:00'\n",
    "\n",
    "shift_b2_start = '16:00:00'\n",
    "shift_b2_new = '00:00:00'\n",
    "shift_b2_mid = '23:59:59'\n",
    "shift_b2_end = '02:00:00'\n",
    "\n",
    "\n",
    "prd_run_df['A1'] = ((prd_run_df['APPT OPEN TS'].dt.dayofweek >= 5) | (prd_run_df['APPT OPEN TS'].dt.dayofweek == 0)) & \\\n",
    "                 ((prd_run_df['APPT OPEN TS'].dt.time >= pd.to_datetime(shift_a1_start).time()) & \\\n",
    "                  (prd_run_df['APPT OPEN TS'].dt.time <= pd.to_datetime(shift_a1_end).time()))\n",
    "\n",
    "prd_run_df['A2'] = (((prd_run_df['APPT OPEN TS'].dt.dayofweek >= 5) | (prd_run_df['APPT OPEN TS'].dt.dayofweek == 0)) & \\\n",
    "                 (prd_run_df['APPT OPEN TS'].dt.time >= pd.to_datetime(shift_a2_start).time()) & \\\n",
    "                  (prd_run_df['APPT OPEN TS'].dt.time <= pd.to_datetime(shift_a2_mid).time())) | \\\n",
    "                (((prd_run_df['APPT OPEN TS'].dt.dayofweek == 6) | (prd_run_df['APPT OPEN TS'].dt.dayofweek <= 1)) & \\\n",
    "                 (prd_run_df['APPT OPEN TS'].dt.time >= pd.to_datetime(shift_a2_new).time()) & \\\n",
    "                  (prd_run_df['APPT OPEN TS'].dt.time <= pd.to_datetime(shift_a2_end).time()))\n",
    "\n",
    "prd_run_df['B1'] = (prd_run_df['APPT OPEN TS'].dt.dayofweek >= 1) & (prd_run_df['APPT OPEN TS'].dt.dayofweek <= 4) & \\\n",
    "                 ((prd_run_df['APPT OPEN TS'].dt.time >= pd.to_datetime(shift_b1_start).time()) & \\\n",
    "                  (prd_run_df['APPT OPEN TS'].dt.time <= pd.to_datetime(shift_b1_end).time()))\n",
    "\n",
    "prd_run_df['B2'] = ((prd_run_df['APPT OPEN TS'].dt.dayofweek >= 1) & (prd_run_df['APPT OPEN TS'].dt.dayofweek <= 4) & \\\n",
    "                 ((prd_run_df['APPT OPEN TS'].dt.time >= pd.to_datetime(shift_b2_start).time()) & \\\n",
    "                  (prd_run_df['APPT OPEN TS'].dt.time <= pd.to_datetime(shift_b2_mid).time()))) | \\\n",
    "                 ((prd_run_df['APPT OPEN TS'].dt.dayofweek >= 2) & (prd_run_df['APPT OPEN TS'].dt.dayofweek <= 5) & \\\n",
    "                 ((prd_run_df['APPT OPEN TS'].dt.time >= pd.to_datetime(shift_b2_new).time()) & \\\n",
    "                  (prd_run_df['APPT OPEN TS'].dt.time <= pd.to_datetime(shift_b2_end).time())))\n",
    "\n",
    "prd_run_df.head()"
   ]
  },
  {
   "cell_type": "code",
   "execution_count": null,
   "metadata": {},
   "outputs": [],
   "source": [
    "prd_run_df['Shift']= np.where(prd_run_df['A1'], 'A1',\n",
    "                                np.where(prd_run_df['A2'], 'A2',\n",
    "                                np.where(prd_run_df['B1'], 'B1',\n",
    "                                np.where(prd_run_df['B2'], 'B2',\n",
    "                                'B3'))))\n",
    "\n",
    "prd_run_df.head()"
   ]
  },
  {
   "cell_type": "code",
   "execution_count": null,
   "metadata": {},
   "outputs": [],
   "source": [
    "# prd_run_df['Week_Number'] = prd_run_df['APPT OPEN TS'].dt.isocalendar().week"
   ]
  },
  {
   "cell_type": "code",
   "execution_count": null,
   "metadata": {},
   "outputs": [],
   "source": [
    "PRD_full = pd.concat([PRD_full, prd_run_df], axis=0)\n",
    "PRD_full.drop_duplicates(subset=['APPT ID'], keep='last', inplace=True)"
   ]
  },
  {
   "cell_type": "code",
   "execution_count": null,
   "metadata": {},
   "outputs": [],
   "source": [
    "PRD_full.to_csv('../Exports/PRD_full.csv', index=True)\n",
    "prd_run_df.to_csv('../Exports/PRD_Shift.csv', index=True)"
   ]
  },
  {
   "cell_type": "code",
   "execution_count": null,
   "metadata": {},
   "outputs": [],
   "source": [
    "prd_run_total = prd_run_df"
   ]
  },
  {
   "cell_type": "code",
   "execution_count": null,
   "metadata": {},
   "outputs": [],
   "source": [
    "total_open_key = prd_run_total.groupby('Shift')['APPT OPEN TS'].count()\n",
    "total_open_key = total_open_key.reset_index(name='Total_Run')\n",
    "total_open_key"
   ]
  },
  {
   "cell_type": "code",
   "execution_count": null,
   "metadata": {},
   "outputs": [],
   "source": [
    "prd_run_total = prd_run_total[(prd_run_total['APPT PRD FLAG'] == 'Appt without PRD Run')]\n",
    "prd_run_total.head()"
   ]
  },
  {
   "cell_type": "code",
   "execution_count": null,
   "metadata": {},
   "outputs": [],
   "source": [
    "# prd_run_total.to_csv('../Exports/Outside_PRD.csv', index=True)"
   ]
  },
  {
   "cell_type": "code",
   "execution_count": null,
   "metadata": {},
   "outputs": [],
   "source": [
    "out_prd_key = prd_run_total.groupby('Shift')['APPT ID'].count()\n",
    "out_prd_key = out_prd_key.reset_index(name='Out_PRD')\n",
    "out_prd_key"
   ]
  },
  {
   "cell_type": "code",
   "execution_count": null,
   "metadata": {},
   "outputs": [],
   "source": [
    "total_prd = pd.merge(total_open_key, out_prd_key, how='left', on=['Shift', 'Shift'])\n",
    "total_prd['Out_PRD'] = total_prd['Out_PRD'].fillna(0)\n",
    "total_prd['Out_PRD'] = total_prd['Out_PRD'].astype('int')\n",
    "total_prd"
   ]
  },
  {
   "cell_type": "code",
   "execution_count": null,
   "metadata": {},
   "outputs": [],
   "source": [
    "total_prd.to_csv('../Exports/Total_PRD.csv', index=True)"
   ]
  },
  {
   "cell_type": "code",
   "execution_count": null,
   "metadata": {},
   "outputs": [],
   "source": [
    "csvsun='../Resources/sunday.csv'\n",
    "csvmon='../Resources/monday.csv'\n",
    "csvtue='../Resources/tuesday.csv'\n",
    "csvwed='../Resources/wednesday.csv'\n",
    "csvthu='../Resources/thursday.csv'\n",
    "csvfri='../Resources/friday.csv'\n",
    "csvsat='../Resources/saturday.csv'\n",
    "\n",
    "csvplan='../Exports/plan_run_full.csv'\n",
    "\n",
    "run_sun= pd.read_csv(csvsun)\n",
    "run_mon= pd.read_csv(csvmon)\n",
    "run_tue= pd.read_csv(csvtue)\n",
    "run_wed= pd.read_csv(csvwed)\n",
    "run_thu= pd.read_csv(csvthu)\n",
    "run_fri= pd.read_csv(csvfri)\n",
    "run_sat= pd.read_csv(csvsat)\n",
    "\n",
    "plan_run_full= pd.read_csv(csvplan)\n",
    "\n",
    "run_sun['Plan_Run_Weekday'] = 'Sunday'\n",
    "run_mon['Plan_Run_Weekday'] = 'Monday'\n",
    "run_tue['Plan_Run_Weekday'] = 'Tuesday'\n",
    "run_wed['Plan_Run_Weekday'] = 'Wednesday'\n",
    "run_thu['Plan_Run_Weekday'] = 'Thursday'\n",
    "run_fri['Plan_Run_Weekday'] = 'Friday'\n",
    "run_sat['Plan_Run_Weekday'] = 'Saturday'\n",
    "\n",
    "run_sun.dropna(subset=['Work_Type'], inplace=True)\n",
    "run_mon.dropna(subset=['Work_Type'], inplace=True)\n",
    "run_tue.dropna(subset=['Work_Type'], inplace=True)\n",
    "run_wed.dropna(subset=['Work_Type'], inplace=True)\n",
    "run_thu.dropna(subset=['Work_Type'], inplace=True)\n",
    "run_fri.dropna(subset=['Work_Type'], inplace=True)\n",
    "run_sat.dropna(subset=['Work_Type'], inplace=True)\n",
    "\n",
    "\n",
    "full_run = pd.concat([run_sun, run_mon, run_tue, run_wed, run_thu, run_fri, run_sat], axis=0)\n",
    "# full_run = pd.concat([run_sun, run_mon, run_tue, run_wed], axis=0)\n",
    "\n",
    "full_run"
   ]
  },
  {
   "cell_type": "code",
   "execution_count": null,
   "metadata": {},
   "outputs": [],
   "source": [
    "full_run = full_run.rename(columns={'APPOINTMENT NUMBER': 'APPT ID'})\n",
    "full_run.head()"
   ]
  },
  {
   "cell_type": "code",
   "execution_count": null,
   "metadata": {},
   "outputs": [],
   "source": [
    "full_run.to_csv('../Exports/Weekly_Plan.csv', index=True)\n",
    "prd_run_total.to_csv('../Exports/Outside_PRD.csv', index=True)"
   ]
  },
  {
   "cell_type": "code",
   "execution_count": null,
   "metadata": {},
   "outputs": [],
   "source": [
    "plan_run_full = pd.concat([plan_run_full, full_run], axis=0)\n",
    "plan_run_full.drop_duplicates(subset=['APPT ID'], keep='last', inplace=True)\n",
    "plan_run_full"
   ]
  },
  {
   "cell_type": "code",
   "execution_count": null,
   "metadata": {},
   "outputs": [],
   "source": [
    "plan_run_full.loc[:, ~plan_run_full.columns.str.contains('Unnamed')]\n",
    "plan_run_full.to_csv('../Exports/plan_run_full.csv', index=True)"
   ]
  },
  {
   "cell_type": "code",
   "execution_count": null,
   "metadata": {},
   "outputs": [],
   "source": [
    "# full_count = full_run['NODE'].count()\n",
    "# full_count"
   ]
  },
  {
   "cell_type": "code",
   "execution_count": null,
   "metadata": {},
   "outputs": [],
   "source": [
    "run_analysis = pd.merge(prd_run_df,plan_run_full[['APPT ID', 'Plan_Run_Weekday', 'Work_Type']], on='APPT ID', how='left')\n",
    "run_analysis"
   ]
  },
  {
   "cell_type": "code",
   "execution_count": null,
   "metadata": {},
   "outputs": [],
   "source": [
    "count = run_analysis['TRAILER NUM'].isna().sum()\n",
    "count"
   ]
  },
  {
   "cell_type": "code",
   "execution_count": null,
   "metadata": {},
   "outputs": [],
   "source": [
    "run_analysis_notnull = run_analysis[run_analysis['TRAILER NUM'].notnull()]\n",
    "run_analysis_notnull"
   ]
  },
  {
   "cell_type": "code",
   "execution_count": null,
   "metadata": {},
   "outputs": [],
   "source": [
    "run_analysis_notnull = run_analysis_notnull.drop(run_analysis_notnull[run_analysis_notnull['TRAILER NUM'].str.startswith('L')].index)\n",
    "run_analysis_notnull"
   ]
  },
  {
   "cell_type": "code",
   "execution_count": null,
   "metadata": {},
   "outputs": [],
   "source": [
    "# count = run_analysis_notnull['Plan_Run_Weekday'].isna().sum()\n",
    "# count"
   ]
  },
  {
   "cell_type": "code",
   "execution_count": null,
   "metadata": {},
   "outputs": [],
   "source": [
    "Final_analysis = run_analysis_notnull[run_analysis_notnull['Plan_Run_Weekday'].notnull()]\n",
    "Final_analysis"
   ]
  },
  {
   "cell_type": "code",
   "execution_count": null,
   "metadata": {},
   "outputs": [],
   "source": [
    "# run_analysis_null = run_analysis_notnull[run_analysis_notnull['Plan_Run_Weekday'].isna()]\n",
    "# run_analysis_null"
   ]
  },
  {
   "cell_type": "code",
   "execution_count": null,
   "metadata": {},
   "outputs": [],
   "source": [
    "def custom_day_of_week(timestamp):\n",
    "    days = ['Monday', 'Tuesday', 'Wednesday', 'Thursday', 'Friday', 'Saturday', 'Sunday']\n",
    "    start_of_day = dt.time(6, 0)\n",
    "    current_day = days[timestamp.weekday() - 1]\n",
    "    if timestamp.time() < start_of_day:\n",
    "        return current_day\n",
    "    else:\n",
    "        return days[(timestamp.weekday()) % 7]\n",
    "\n",
    "Final_analysis['CustomDayOfWeek'] = Final_analysis['APPT OPEN TS'].apply(custom_day_of_week)"
   ]
  },
  {
   "cell_type": "code",
   "execution_count": null,
   "metadata": {},
   "outputs": [],
   "source": [
    "# def custom_day_of_week(timestamp):\n",
    "#     days = ['Sunday', 'Monday', 'Tuesday', 'Wednesday', 'Thursday', 'Friday', 'Saturday']\n",
    "#     start_of_day = dt.time(6, 0)\n",
    "#     current_day = days[timestamp.weekday()]\n",
    "#     if timestamp.time() < start_of_day:\n",
    "#         return days.index(current_day)\n",
    "#     else:\n",
    "#         return (days.index(current_day) + 1) % 7\n",
    "\n",
    "# Final_analysis['CustomDayOfWeek'] = Final_analysis['APPT OPEN TS'].apply(custom_day_of_week)"
   ]
  },
  {
   "cell_type": "code",
   "execution_count": null,
   "metadata": {},
   "outputs": [],
   "source": [
    "Final_analysis.to_csv('../Exports/Custom_Analysis.csv', index=True)"
   ]
  },
  {
   "cell_type": "code",
   "execution_count": null,
   "metadata": {},
   "outputs": [],
   "source": [
    "Final_analysis['DOOR ID'] = Final_analysis['DOOR ID'].astype(str)\n",
    "Final_analysis_DF = Final_analysis[((Final_analysis['Work_Type'] == 'A') & (Final_analysis['DOOR ID'].str.startswith('2')))\n",
    "                                | ((Final_analysis['Work_Type'] == 'D') & (Final_analysis['DOOR ID'].str.startswith('4')))]"
   ]
  },
  {
   "cell_type": "code",
   "execution_count": null,
   "metadata": {},
   "outputs": [],
   "source": [
    "# Final_analysis"
   ]
  },
  {
   "cell_type": "code",
   "execution_count": null,
   "metadata": {},
   "outputs": [],
   "source": [
    "Final_analysis_DF.to_csv('../Exports/Work_Type.csv', index=True)"
   ]
  },
  {
   "cell_type": "code",
   "execution_count": null,
   "metadata": {},
   "outputs": [],
   "source": [
    "mismatch_df = Final_analysis.query('Plan_Run_Weekday != CustomDayOfWeek')\n",
    "mismatch_df"
   ]
  },
  {
   "cell_type": "code",
   "execution_count": null,
   "metadata": {},
   "outputs": [],
   "source": [
    "mismatch_df['APPT OPEN TS'] = pd.to_datetime(mismatch_df['APPT OPEN TS'])\n",
    "mismatch_df['PRD RUN TS'] = pd.to_datetime(mismatch_df['PRD RUN TS'])\n",
    "mismatch_df['TRAILER YARD TS'] = pd.to_datetime(mismatch_df['TRAILER YARD TS'])\n",
    "\n",
    "mismatch_df['Run/Open'] = mismatch_df['APPT OPEN TS'] - mismatch_df['PRD RUN TS']\n",
    "mismatch_df['Yard/Open'] = mismatch_df['APPT OPEN TS'] - mismatch_df['TRAILER YARD TS']\n",
    "\n",
    "mismatch_df = mismatch_df[mismatch_df['Yard/Open'] > pd.Timedelta('1 day')]"
   ]
  },
  {
   "cell_type": "code",
   "execution_count": null,
   "metadata": {},
   "outputs": [],
   "source": [
    "mismatch_df.to_csv('../Exports/Mismatches.csv', index=True)"
   ]
  },
  {
   "cell_type": "code",
   "execution_count": null,
   "metadata": {},
   "outputs": [],
   "source": [
    "Final_analysis['PRD RUN TS'] = pd.to_datetime(Final_analysis['PRD RUN TS'])\n",
    "First_Mismatch = Final_analysis[(Final_analysis['Plan_Run_Weekday'] == Final_analysis['CustomDayOfWeek']) & (Final_analysis['Shift'].str.endswith('1')) & (Final_analysis['PRD RUN TS'].dt.hour < 16)]"
   ]
  },
  {
   "cell_type": "code",
   "execution_count": null,
   "metadata": {},
   "outputs": [],
   "source": [
    "First_Mismatch.to_csv('../Exports/First_Mismatches.csv', index=True)"
   ]
  },
  {
   "cell_type": "code",
   "execution_count": null,
   "metadata": {},
   "outputs": [],
   "source": []
  }
 ],
 "metadata": {
  "kernelspec": {
   "display_name": "base",
   "language": "python",
   "name": "python3"
  },
  "language_info": {
   "codemirror_mode": {
    "name": "ipython",
    "version": 3
   },
   "file_extension": ".py",
   "mimetype": "text/x-python",
   "name": "python",
   "nbconvert_exporter": "python",
   "pygments_lexer": "ipython3",
   "version": "3.12.4"
  }
 },
 "nbformat": 4,
 "nbformat_minor": 2
}
